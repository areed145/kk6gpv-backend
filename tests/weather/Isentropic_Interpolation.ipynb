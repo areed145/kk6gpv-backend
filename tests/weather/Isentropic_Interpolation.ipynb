{
  "cells": [
    {
      "cell_type": "code",
      "execution_count": 1,
      "metadata": {},
      "outputs": [],
      "source": [
        "%matplotlib inline"
      ]
    },
    {
      "cell_type": "code",
      "execution_count": 16,
      "metadata": {},
      "outputs": [],
      "source": [
        "!export CXX=clang"
      ]
    },
    {
      "cell_type": "code",
      "execution_count": 18,
      "metadata": {},
      "outputs": [
        {
          "name": "stdout",
          "output_type": "stream",
          "text": "tplib2<=0.12.0,>=0.8, but you'll have httplib2 0.13.1 which is incompatible.\n  ERROR: apache-airflow 1.10.5 has requirement text-unidecode==1.2, but you'll have text-unidecode 1.3 which is incompatible.\n  Installing collected packages: setuptools, wheel, numpy, Cython\n      Running setup.py install for setuptools: started\n      Running setup.py install for setuptools: finished with status 'done'\n      Running setup.py install for wheel: started\n      Running setup.py install for wheel: finished with status 'done'\n      Running setup.py install for numpy: started\n      Running setup.py install for numpy: finished with status 'error'\n      ERROR: Command errored out with exit status 1:\n       command: '/Users/areed145/Library/Mobile Documents/com~apple~CloudDocs/vcscode/kk6gpv-flask/.venv/bin/python3' -u -c 'import sys, setuptools, tokenize; sys.argv[0] = '\"'\"'/private/var/folders/73/z6xw6tw13wqbz490ql9zt0040000gn/T/pip-install-s3f63sdl/numpy/setup.py'\"'\"'; __file__='\"'\"'/private/var/folders/73/z6xw6tw13wqbz490ql9zt0040000gn/T/pip-install-s3f63sdl/numpy/setup.py'\"'\"';f=getattr(tokenize, '\"'\"'open'\"'\"', open)(__file__);code=f.read().replace('\"'\"'\\r\\n'\"'\"', '\"'\"'\\n'\"'\"');f.close();exec(compile(code, __file__, '\"'\"'exec'\"'\"'))' install --record /private/var/folders/73/z6xw6tw13wqbz490ql9zt0040000gn/T/pip-record-s14eplfn/install-record.txt --single-version-externally-managed --prefix /private/var/folders/73/z6xw6tw13wqbz490ql9zt0040000gn/T/pip-build-env-ahdseimw/overlay --compile --install-headers '/Users/areed145/Library/Mobile Documents/com~apple~CloudDocs/vcscode/kk6gpv-flask/.venv/include/site/python3.7/numpy'\n           cwd: /private/var/folders/73/z6xw6tw13wqbz490ql9zt0040000gn/T/pip-install-s3f63sdl/numpy/\n      Complete output (247 lines):\n      Running from numpy source directory.\n  \n      Note: if you need reliable uninstall behavior, then install\n      with pip instead of using `setup.py install`:\n  \n        - `pip install .`       (from a git repo or downloaded source\n                                 release)\n        - `pip install numpy`   (last NumPy release on PyPi)\n  \n  \n      blas_opt_info:\n      blas_mkl_info:\n      customize UnixCCompiler\n        libraries mkl_rt not found in ['/Users/areed145/Library/Mobile Documents/com~apple~CloudDocs/vcscode/kk6gpv-flask/.venv/lib', '/usr/local/lib', '/usr/lib']\n        NOT AVAILABLE\n  \n      blis_info:\n      customize UnixCCompiler\n        libraries blis not found in ['/Users/areed145/Library/Mobile Documents/com~apple~CloudDocs/vcscode/kk6gpv-flask/.venv/lib', '/usr/local/lib', '/usr/lib']\n        NOT AVAILABLE\n  \n      openblas_info:\n      customize UnixCCompiler\n      customize UnixCCompiler\n        libraries openblas not found in ['/Users/areed145/Library/Mobile Documents/com~apple~CloudDocs/vcscode/kk6gpv-flask/.venv/lib', '/usr/local/lib', '/usr/lib']\n        NOT AVAILABLE\n  \n      atlas_3_10_blas_threads_info:\n      Setting PTATLAS=ATLAS\n      customize UnixCCompiler\n        libraries tatlas not found in ['/Users/areed145/Library/Mobile Documents/com~apple~CloudDocs/vcscode/kk6gpv-flask/.venv/lib', '/usr/local/lib', '/usr/lib']\n        NOT AVAILABLE\n  \n      atlas_3_10_blas_info:\n      customize UnixCCompiler\n        libraries satlas not found in ['/Users/areed145/Library/Mobile Documents/com~apple~CloudDocs/vcscode/kk6gpv-flask/.venv/lib', '/usr/local/lib', '/usr/lib']\n        NOT AVAILABLE\n  \n      atlas_blas_threads_info:\n      Setting PTATLAS=ATLAS\n      customize UnixCCompiler\n        libraries ptf77blas,ptcblas,atlas not found in ['/Users/areed145/Library/Mobile Documents/com~apple~CloudDocs/vcscode/kk6gpv-flask/.venv/lib', '/usr/local/lib', '/usr/lib']\n        NOT AVAILABLE\n  \n      atlas_blas_info:\n      customize UnixCCompiler\n        libraries f77blas,cblas,atlas not found in ['/Users/areed145/Library/Mobile Documents/com~apple~CloudDocs/vcscode/kk6gpv-flask/.venv/lib', '/usr/local/lib', '/usr/lib']\n        NOT AVAILABLE\n  \n      accelerate_info:\n      customize UnixCCompiler\n        libraries accelerate not found in ['/Users/areed145/Library/Mobile Documents/com~apple~CloudDocs/vcscode/kk6gpv-flask/.venv/lib', '/usr/local/lib', '/usr/lib']\n      Library accelerate was not found. Ignoring\n      customize UnixCCompiler\n        libraries veclib not found in ['/Users/areed145/Library/Mobile Documents/com~apple~CloudDocs/vcscode/kk6gpv-flask/.venv/lib', '/usr/local/lib', '/usr/lib']\n      Library veclib was not found. Ignoring\n        FOUND:\n          extra_compile_args = ['-msse3', '-I/System/Library/Frameworks/vecLib.framework/Headers']\n          extra_link_args = ['-Wl,-framework', '-Wl,Accelerate']\n          define_macros = [('NO_ATLAS_INFO', 3), ('HAVE_CBLAS', None)]\n  \n        FOUND:\n          extra_compile_args = ['-msse3', '-I/System/Library/Frameworks/vecLib.framework/Headers']\n          extra_link_args = ['-Wl,-framework', '-Wl,Accelerate']\n          define_macros = [('NO_ATLAS_INFO', 3), ('HAVE_CBLAS', None)]\n  \n      non-existing path in 'numpy/distutils': 'site.cfg'\n      lapack_opt_info:\n      lapack_mkl_info:\n      customize UnixCCompiler\n        libraries mkl_rt not found in ['/Users/areed145/Library/Mobile Documents/com~apple~CloudDocs/vcscode/kk6gpv-flask/.venv/lib', '/usr/local/lib', '/usr/lib']\n        NOT AVAILABLE\n  \n      openblas_lapack_info:\n      customize UnixCCompiler\n      customize UnixCCompiler\n        libraries openblas not found in ['/Users/areed145/Library/Mobile Documents/com~apple~CloudDocs/vcscode/kk6gpv-flask/.venv/lib', '/usr/local/lib', '/usr/lib']\n        NOT AVAILABLE\n  \n      openblas_clapack_info:\n      customize UnixCCompiler\n      customize UnixCCompiler\n        libraries openblas,lapack not found in ['/Users/areed145/Library/Mobile Documents/com~apple~CloudDocs/vcscode/kk6gpv-flask/.venv/lib', '/usr/local/lib', '/usr/lib']\n        NOT AVAILABLE\n  \n      flame_info:\n      customize UnixCCompiler\n        libraries flame not found in ['/Users/areed145/Library/Mobile Documents/com~apple~CloudDocs/vcscode/kk6gpv-flask/.venv/lib', '/usr/local/lib', '/usr/lib']\n        NOT AVAILABLE\n  \n      atlas_3_10_threads_info:\n      Setting PTATLAS=ATLAS\n      customize UnixCCompiler\n        libraries lapack_atlas not found in /Users/areed145/Library/Mobile Documents/com~apple~CloudDocs/vcscode/kk6gpv-flask/.venv/lib\n      customize UnixCCompiler\n        libraries tatlas,tatlas not found in /Users/areed145/Library/Mobile Documents/com~apple~CloudDocs/vcscode/kk6gpv-flask/.venv/lib\n      customize UnixCCompiler\n        libraries lapack_atlas not found in /usr/local/lib\n      customize UnixCCompiler\n        libraries tatlas,tatlas not found in /usr/local/lib\n      customize UnixCCompiler\n        libraries lapack_atlas not found in /usr/lib\n      customize UnixCCompiler\n        libraries tatlas,tatlas not found in /usr/lib\n      <class 'numpy.distutils.system_info.atlas_3_10_threads_info'>\n        NOT AVAILABLE\n  \n      atlas_3_10_info:\n      customize UnixCCompiler\n        libraries lapack_atlas not found in /Users/areed145/Library/Mobile Documents/com~apple~CloudDocs/vcscode/kk6gpv-flask/.venv/lib\n      customize UnixCCompiler\n        libraries satlas,satlas not found in /Users/areed145/Library/Mobile Documents/com~apple~CloudDocs/vcscode/kk6gpv-flask/.venv/lib\n      customize UnixCCompiler\n        libraries lapack_atlas not found in /usr/local/lib\n      customize UnixCCompiler\n        libraries satlas,satlas not found in /usr/local/lib\n      customize UnixCCompiler\n        libraries lapack_atlas not found in /usr/lib\n      customize UnixCCompiler\n        libraries satlas,satlas not found in /usr/lib\n      <class 'numpy.distutils.system_info.atlas_3_10_info'>\n        NOT AVAILABLE\n  \n      atlas_threads_info:\n      Setting PTATLAS=ATLAS\n      customize UnixCCompiler\n        libraries lapack_atlas not found in /Users/areed145/Library/Mobile Documents/com~apple~CloudDocs/vcscode/kk6gpv-flask/.venv/lib\n      customize UnixCCompiler\n        libraries ptf77blas,ptcblas,atlas not found in /Users/areed145/Library/Mobile Documents/com~apple~CloudDocs/vcscode/kk6gpv-flask/.venv/lib\n      customize UnixCCompiler\n        libraries lapack_atlas not found in /usr/local/lib\n      customize UnixCCompiler\n        libraries ptf77blas,ptcblas,atlas not found in /usr/local/lib\n      customize UnixCCompiler\n        libraries lapack_atlas not found in /usr/lib\n      customize UnixCCompiler\n        libraries ptf77blas,ptcblas,atlas not found in /usr/lib\n      <class 'numpy.distutils.system_info.atlas_threads_info'>\n        NOT AVAILABLE\n  \n      atlas_info:\n      customize UnixCCompiler\n        libraries lapack_atlas not found in /Users/areed145/Library/Mobile Documents/com~apple~CloudDocs/vcscode/kk6gpv-flask/.venv/lib\n      customize UnixCCompiler\n        libraries f77blas,cblas,atlas not found in /Users/areed145/Library/Mobile Documents/com~apple~CloudDocs/vcscode/kk6gpv-flask/.venv/lib\n      customize UnixCCompiler\n        libraries lapack_atlas not found in /usr/local/lib\n      customize UnixCCompiler\n        libraries f77blas,cblas,atlas not found in /usr/local/lib\n      customize UnixCCompiler\n        libraries lapack_atlas not found in /usr/lib\n      customize UnixCCompiler\n        libraries f77blas,cblas,atlas not found in /usr/lib\n      <class 'numpy.distutils.system_info.atlas_info'>\n        NOT AVAILABLE\n  \n        FOUND:\n          extra_compile_args = ['-msse3', '-I/System/Library/Frameworks/vecLib.framework/Headers']\n          extra_link_args = ['-Wl,-framework', '-Wl,Accelerate']\n          define_macros = [('NO_ATLAS_INFO', 3), ('HAVE_CBLAS', None)]\n  \n      /usr/local/Cellar/python/3.7.5/Frameworks/Python.framework/Versions/3.7/lib/python3.7/distutils/dist.py:274: UserWarning: Unknown distribution option: 'define_macros'\n        warnings.warn(msg)\n      running install\n      running build\n      running config_cc\n      unifing config_cc, config, build_clib, build_ext, build commands --compiler options\n      running config_fc\n      unifing config_fc, config, build_clib, build_ext, build commands --fcompiler options\n      running build_src\n      build_src\n      building py_modules sources\n      creating build\n      creating build/src.macosx-10.15-x86_64-3.7\n      creating build/src.macosx-10.15-x86_64-3.7/numpy\n      creating build/src.macosx-10.15-x86_64-3.7/numpy/distutils\n      building library \"npymath\" sources\n      get_default_fcompiler: matching types: '['gnu95', 'nag', 'absoft', 'ibm', 'intel', 'gnu', 'g95', 'pg']'\n      customize Gnu95FCompiler\n      Found executable /Users/areed145/anaconda3/bin/gfortran\n      Found executable /Users/areed145/anaconda3/bin/x86_64-apple-darwin13.4.0-ld\n      Found executable /Users/areed145/anaconda3/bin/x86_64-apple-darwin13.4.0-ar\n      Found executable /Users/areed145/anaconda3/bin/x86_64-apple-darwin13.4.0-ranlib\n      /private/var/folders/73/z6xw6tw13wqbz490ql9zt0040000gn/T/pip-install-s3f63sdl/numpy/numpy/distutils/fcompiler/__init__.py:517: UserWarning: FFLAGS is used as is, not appended to flags already defined by numpy.distutils! Use NPY_DISTUTILS_APPEND_FLAGS=1 to obtain appending behavior instead (this behavior will become default in a future release).\n        fflags = self.flag_vars.flags + dflags + oflags + aflags\n      /private/var/folders/73/z6xw6tw13wqbz490ql9zt0040000gn/T/pip-install-s3f63sdl/numpy/numpy/distutils/fcompiler/__init__.py:530: UserWarning: LDFLAGS is used as is, not appended to flags already defined by numpy.distutils! Use NPY_DISTUTILS_APPEND_FLAGS=1 to obtain appending behavior instead (this behavior will become default in a future release).\n        linker_so_flags = self.flag_vars.linker_so\n      /private/var/folders/73/z6xw6tw13wqbz490ql9zt0040000gn/T/pip-install-s3f63sdl/numpy/numpy/distutils/fcompiler/__init__.py:540: UserWarning: LDFLAGS is used as is, not appended to flags already defined by numpy.distutils! Use NPY_DISTUTILS_APPEND_FLAGS=1 to obtain appending behavior instead (this behavior will become default in a future release).\n        linker_exe_flags = self.flag_vars.linker_exe\n      customize Gnu95FCompiler\n      customize Gnu95FCompiler using config\n      C compiler: x86_64-apple-darwin13.4.0-clang -Wno-unused-result -Wsign-compare -Wunreachable-code -fno-common -dynamic -DNDEBUG -g -fwrapv -O3 -Wall -isysroot /Applications/Xcode.app/Contents/Developer/Platforms/MacOSX.platform/Developer/SDKs/MacOSX10.15.sdk -I/Applications/Xcode.app/Contents/Developer/Platforms/MacOSX.platform/Developer/SDKs/MacOSX10.15.sdk/usr/include -I/Applications/Xcode.app/Contents/Developer/Platforms/MacOSX.platform/Developer/SDKs/MacOSX10.15.sdk/System/Library/Frameworks/Tk.framework/Versions/8.5/Headers -march=core2 -mtune=haswell -mssse3 -ftree-vectorize -fPIC -fPIE -fstack-protector-strong -O2 -pipe -D_FORTIFY_SOURCE=2 -mmacosx-version-min=10.9\n  \n      compile options: '-Inumpy/core/src/common -Inumpy/core/src -Inumpy/core -Inumpy/core/src/npymath -Inumpy/core/src/multiarray -Inumpy/core/src/umath -Inumpy/core/src/npysort -I/usr/local/include -I/usr/local/opt/openssl@1.1/include -I/usr/local/opt/sqlite/include -I/Users/areed145/Library/Mobile Documents/com~apple~CloudDocs/vcscode/kk6gpv-flask/.venv/include -I/usr/local/Cellar/python/3.7.5/Frameworks/Python.framework/Versions/3.7/include/python3.7m -c'\n      x86_64-apple-darwin13.4.0-clang: _configtest.c\n      clang-4.0: warning: no such sysroot directory: '/Applications/Xcode.app/Contents/Developer/Platforms/MacOSX.platform/Developer/SDKs/MacOSX10.15.sdk' [-Wmissing-sysroot]\n      x86_64-apple-darwin13.4.0-clang _configtest.o -o _configtest\n      ld: warning: ignoring file /Library/Developer/CommandLineTools/SDKs/MacOSX.sdk/usr/lib/libSystem.tbd, file was built for unsupported file format ( 0x2D 0x2D 0x2D 0x20 0x21 0x74 0x61 0x70 0x69 0x2D 0x74 0x62 0x64 0x2D 0x76 0x33 ) which is not the architecture being linked (x86_64): /Library/Developer/CommandLineTools/SDKs/MacOSX.sdk/usr/lib/libSystem.tbd\n      ld: dynamic main executables must link with libSystem.dylib for architecture x86_64\n      clang-4.0: error: linker command failed with exit code 1 (use -v to see invocation)\n      failure.\n      removing: _configtest.c _configtest.o _configtest.o.d\n      Traceback (most recent call last):\n        File \"<string>\", line 1, in <module>\n        File \"/private/var/folders/73/z6xw6tw13wqbz490ql9zt0040000gn/T/pip-install-s3f63sdl/numpy/setup.py\", line 444, in <module>\n          setup_package()\n        File \"/private/var/folders/73/z6xw6tw13wqbz490ql9zt0040000gn/T/pip-install-s3f63sdl/numpy/setup.py\", line 436, in setup_package\n          setup(**metadata)\n        File \"/private/var/folders/73/z6xw6tw13wqbz490ql9zt0040000gn/T/pip-install-s3f63sdl/numpy/numpy/distutils/core.py\", line 171, in setup\n          return old_setup(**new_attr)\n        File \"/Users/areed145/Library/Mobile Documents/com~apple~CloudDocs/vcscode/kk6gpv-flask/.venv/lib/python3.7/site-packages/setuptools/__init__.py\", line 145, in setup\n          return distutils.core.setup(**attrs)\n        File \"/usr/local/Cellar/python/3.7.5/Frameworks/Python.framework/Versions/3.7/lib/python3.7/distutils/core.py\", line 148, in setup\n          dist.run_commands()\n        File \"/usr/local/Cellar/python/3.7.5/Frameworks/Python.framework/Versions/3.7/lib/python3.7/distutils/dist.py\", line 966, in run_commands\n          self.run_command(cmd)\n        File \"/usr/local/Cellar/python/3.7.5/Frameworks/Python.framework/Versions/3.7/lib/python3.7/distutils/dist.py\", line 985, in run_command\n          cmd_obj.run()\n        File \"/private/var/folders/73/z6xw6tw13wqbz490ql9zt0040000gn/T/pip-install-s3f63sdl/numpy/numpy/distutils/command/install.py\", line 62, in run\n          r = self.setuptools_run()\n        File \"/private/var/folders/73/z6xw6tw13wqbz490ql9zt0040000gn/T/pip-install-s3f63sdl/numpy/numpy/distutils/command/install.py\", line 36, in setuptools_run\n          return distutils_install.run(self)\n        File \"/usr/local/Cellar/python/3.7.5/Frameworks/Python.framework/Versions/3.7/lib/python3.7/distutils/command/install.py\", line 545, in run\n          self.run_command('build')\n        File \"/usr/local/Cellar/python/3.7.5/Frameworks/Python.framework/Versions/3.7/lib/python3.7/distutils/cmd.py\", line 313, in run_command\n          self.distribution.run_command(command)\n        File \"/usr/local/Cellar/python/3.7.5/Frameworks/Python.framework/Versions/3.7/lib/python3.7/distutils/dist.py\", line 985, in run_command\n          cmd_obj.run()\n        File \"/private/var/folders/73/z6xw6tw13wqbz490ql9zt0040000gn/T/pip-install-s3f63sdl/numpy/numpy/distutils/command/build.py\", line 47, in run\n          old_build.run(self)\n        File \"/usr/local/Cellar/python/3.7.5/Frameworks/Python.framework/Versions/3.7/lib/python3.7/distutils/command/build.py\", line 135, in run\n          self.run_command(cmd_name)\n        File \"/usr/local/Cellar/python/3.7.5/Frameworks/Python.framework/Versions/3.7/lib/python3.7/distutils/cmd.py\", line 313, in run_command\n          self.distribution.run_command(command)\n        File \"/usr/local/Cellar/python/3.7.5/Frameworks/Python.framework/Versions/3.7/lib/python3.7/distutils/dist.py\", line 985, in run_command\n          cmd_obj.run()\n        File \"/private/var/folders/73/z6xw6tw13wqbz490ql9zt0040000gn/T/pip-install-s3f63sdl/numpy/numpy/distutils/command/build_src.py\", line 142, in run\n          self.build_sources()\n        File \"/private/var/folders/73/z6xw6tw13wqbz490ql9zt0040000gn/T/pip-install-s3f63sdl/numpy/numpy/distutils/command/build_src.py\", line 153, in build_sources\n          self.build_library_sources(*libname_info)\n        File \"/private/var/folders/73/z6xw6tw13wqbz490ql9zt0040000gn/T/pip-install-s3f63sdl/numpy/numpy/distutils/command/build_src.py\", line 286, in build_library_sources\n          sources = self.generate_sources(sources, (lib_name, build_info))\n        File \"/private/var/folders/73/z6xw6tw13wqbz490ql9zt0040000gn/T/pip-install-s3f63sdl/numpy/numpy/distutils/command/build_src.py\", line 369, in generate_sources\n          source = func(extension, build_dir)\n        File \"numpy/core/setup.py\", line 669, in get_mathlib_info\n          raise RuntimeError(\"Broken toolchain: cannot link a simple C program\")\n      RuntimeError: Broken toolchain: cannot link a simple C program\n      ----------------------------------------\n  ERROR: Command errored out with exit status 1: '/Users/areed145/Library/Mobile Documents/com~apple~CloudDocs/vcscode/kk6gpv-flask/.venv/bin/python3' -u -c 'import sys, setuptools, tokenize; sys.argv[0] = '\"'\"'/private/var/folders/73/z6xw6tw13wqbz490ql9zt0040000gn/T/pip-install-s3f63sdl/numpy/setup.py'\"'\"'; __file__='\"'\"'/private/var/folders/73/z6xw6tw13wqbz490ql9zt0040000gn/T/pip-install-s3f63sdl/numpy/setup.py'\"'\"';f=getattr(tokenize, '\"'\"'open'\"'\"', open)(__file__);code=f.read().replace('\"'\"'\\r\\n'\"'\"', '\"'\"'\\n'\"'\"');f.close();exec(compile(code, __file__, '\"'\"'exec'\"'\"'))' install --record /private/var/folders/73/z6xw6tw13wqbz490ql9zt0040000gn/T/pip-record-s14eplfn/install-record.txt --single-version-externally-managed --prefix /private/var/folders/73/z6xw6tw13wqbz490ql9zt0040000gn/T/pip-build-env-ahdseimw/overlay --compile --install-headers '/Users/areed145/Library/Mobile Documents/com~apple~CloudDocs/vcscode/kk6gpv-flask/.venv/include/site/python3.7/numpy' Check the logs for full command output.\n  ----------------------------------------\u001b[0m\n\u001b[?25h\u001b[31mERROR: Command errored out with exit status 1: '/Users/areed145/Library/Mobile Documents/com~apple~CloudDocs/vcscode/kk6gpv-flask/.venv/bin/python3' '/Users/areed145/Library/Mobile Documents/com~apple~CloudDocs/vcscode/kk6gpv-flask/.venv/lib/python3.7/site-packages/pip' install --ignore-installed --no-user --prefix /private/var/folders/73/z6xw6tw13wqbz490ql9zt0040000gn/T/pip-build-env-ahdseimw/overlay --no-warn-script-location --no-binary :all: --only-binary :none: -i https://pypi.org/simple -- setuptools wheel 'numpy>=1.10' 'Cython>=0.15.1' Check the logs for full command output.\u001b[0m\n"
        }
      ],
      "source": [
        "!pip install --no-use-pep517 cartopy\n",
        "#!pip install metpy\n"
      ]
    },
    {
      "cell_type": "markdown",
      "metadata": {},
      "source": [
        "\n",
        "# Isentropic Analysis\n",
        "\n",
        "\n",
        "The MetPy function `metpy.calc.isentropic_interpolation` allows for isentropic analysis from\n",
        "model analysis data in isobaric coordinates.\n"
      ]
    },
    {
      "cell_type": "code",
      "execution_count": 2,
      "metadata": {},
      "outputs": [
        {
          "ename": "ModuleNotFoundError",
          "evalue": "No module named 'cartopy'",
          "output_type": "error",
          "traceback": [
            "\u001b[0;31m---------------------------------------------------------------------------\u001b[0m",
            "\u001b[0;31mModuleNotFoundError\u001b[0m                       Traceback (most recent call last)",
            "\u001b[0;32m<ipython-input-2-194782a6e90e>\u001b[0m in \u001b[0;36m<module>\u001b[0;34m\u001b[0m\n\u001b[1;32m      1\u001b[0m \u001b[0;32mfrom\u001b[0m \u001b[0mdatetime\u001b[0m \u001b[0;32mimport\u001b[0m \u001b[0mdatetime\u001b[0m\u001b[0;34m,\u001b[0m \u001b[0mtimedelta\u001b[0m\u001b[0;34m\u001b[0m\u001b[0;34m\u001b[0m\u001b[0m\n\u001b[1;32m      2\u001b[0m \u001b[0;34m\u001b[0m\u001b[0m\n\u001b[0;32m----> 3\u001b[0;31m \u001b[0;32mimport\u001b[0m \u001b[0mcartopy\u001b[0m\u001b[0;34m.\u001b[0m\u001b[0mcrs\u001b[0m \u001b[0;32mas\u001b[0m \u001b[0mccrs\u001b[0m\u001b[0;34m\u001b[0m\u001b[0;34m\u001b[0m\u001b[0m\n\u001b[0m\u001b[1;32m      4\u001b[0m \u001b[0;32mimport\u001b[0m \u001b[0mcartopy\u001b[0m\u001b[0;34m.\u001b[0m\u001b[0mfeature\u001b[0m \u001b[0;32mas\u001b[0m \u001b[0mcfeature\u001b[0m\u001b[0;34m\u001b[0m\u001b[0;34m\u001b[0m\u001b[0m\n\u001b[1;32m      5\u001b[0m \u001b[0;32mimport\u001b[0m \u001b[0mmatplotlib\u001b[0m\u001b[0;34m.\u001b[0m\u001b[0mpyplot\u001b[0m \u001b[0;32mas\u001b[0m \u001b[0mplt\u001b[0m\u001b[0;34m\u001b[0m\u001b[0;34m\u001b[0m\u001b[0m\n",
            "\u001b[0;31mModuleNotFoundError\u001b[0m: No module named 'cartopy'"
          ]
        }
      ],
      "source": [
        "from datetime import datetime, timedelta\n",
        "\n",
        "import cartopy.crs as ccrs\n",
        "import cartopy.feature as cfeature\n",
        "import matplotlib.pyplot as plt\n",
        "import metpy.calc\n",
        "from metpy.units import units\n",
        "from netCDF4 import num2date\n",
        "import numpy as np\n",
        "from siphon.catalog import TDSCatalog"
      ]
    },
    {
      "cell_type": "markdown",
      "metadata": {},
      "source": [
        "Getting the data\n\nIn this example, the latest GFS forecasts data from the National Centers for\nEnvironmental Information (https://nomads.ncdc.noaa.gov) will be used, courtesy of the\nUniveristy Corporation for Atmospheric Research Thredds Data Server.\n\n"
      ]
    },
    {
      "cell_type": "code",
      "execution_count": null,
      "metadata": {
        "collapsed": false
      },
      "outputs": [],
      "source": [
        "# Latest GFS Dataset\n",
        "cat = TDSCatalog('http://thredds-jetstream.unidata.ucar.edu/thredds/catalog/grib/'\n",
        "                 'NCEP/GFS/Global_0p5deg/catalog.xml')\n",
        "ncss = cat.latest.subset()\n",
        "\n",
        "# Find the start of the model run and define time range\n",
        "start_time = ncss.metadata.time_span['begin']\n",
        "start = datetime.strptime(start_time, '%Y-%m-%dT%H:%M:%Sz')\n",
        "end = start + timedelta(hours=9)\n",
        "\n",
        "# Query for Latest GFS Run\n",
        "gfsdata = ncss.query().time_range(start, end).accept('netcdf4')\n",
        "\n",
        "gfsdata.variables('Temperature_isobaric',\n",
        "                  'u-component_of_wind_isobaric',\n",
        "                  'v-component_of_wind_isobaric',\n",
        "                  'Relative_humidity_isobaric').add_lonlat()\n",
        "\n",
        "# Set the lat/lon box for the data you want to pull in.\n",
        "# lonlat_box(north_lat,south_lat,east_lon,west_lon)\n",
        "gfsdata.lonlat_box(-150, -50, 15, 65)\n",
        "\n",
        "# Actually getting the data\n",
        "data = ncss.get_data(gfsdata)\n",
        "\n",
        "dtime = data.variables['Temperature_isobaric'].dimensions[0]\n",
        "dlev_hght = data.variables['Temperature_isobaric'].dimensions[1]\n",
        "dlev_uwnd = data.variables['u-component_of_wind_isobaric'].dimensions[1]\n",
        "lat = data.variables['lat'][:]\n",
        "lon = data.variables['lon'][:]\n",
        "lev_hght = data.variables[dlev_hght][:] * units.Pa\n",
        "lev_uwnd = data.variables[dlev_uwnd][:] * units.Pa\n",
        "# Due to a different number of vertical levels find where they are common\n",
        "_, _, common_ind = np.intersect1d(lev_uwnd, lev_hght, return_indices=True)\n",
        "times = data.variables[dtime]\n",
        "vtimes = num2date(times[:], times.units)\n",
        "temps = data.variables['Temperature_isobaric']\n",
        "tmp = temps[:, common_ind, :, :] * units.kelvin\n",
        "uwnd = data.variables['u-component_of_wind_isobaric'][:] * units.meter / units.second\n",
        "vwnd = data.variables['v-component_of_wind_isobaric'][:] * units.meter / units.second\n",
        "relh = data.variables['Relative_humidity_isobaric'][:]"
      ]
    },
    {
      "cell_type": "markdown",
      "metadata": {},
      "source": [
        "To properly interpolate to isentropic coordinates, the function must know the desired output\nisentropic levels. An array with these levels will be created below.\n\n"
      ]
    },
    {
      "cell_type": "code",
      "execution_count": null,
      "metadata": {
        "collapsed": false
      },
      "outputs": [],
      "source": [
        "isentlevs = np.arange(310, 316, 5) * units.kelvin"
      ]
    },
    {
      "cell_type": "markdown",
      "metadata": {},
      "source": [
        "Conversion to Isentropic Coordinates\n\nOnce model data in isobaric coordinates has been pulled and the desired isentropic levels\ncreated, the conversion to isentropic coordinates can begin. Data will be passed to the\nfunction as below. The function requires that isentropic levels, isobaric levels, and\ntemperature be input. Any additional inputs (in this case relative humidity, u, and v wind\ncomponents) will be linearly interpolated to isentropic space.\n\n"
      ]
    },
    {
      "cell_type": "code",
      "execution_count": null,
      "metadata": {
        "collapsed": false
      },
      "outputs": [],
      "source": [
        "isent_anal = metpy.calc.isentropic_interpolation(isentlevs, lev_uwnd, tmp,\n",
        "                                                 relh, uwnd, vwnd, axis=1)"
      ]
    },
    {
      "cell_type": "markdown",
      "metadata": {},
      "source": [
        "The output is a list, so now we will separate the variables to different names before\nplotting.\n\n"
      ]
    },
    {
      "cell_type": "code",
      "execution_count": null,
      "metadata": {
        "collapsed": false
      },
      "outputs": [],
      "source": [
        "isentprs, isentrh, isentu, isentv = isent_anal"
      ]
    },
    {
      "cell_type": "markdown",
      "metadata": {},
      "source": [
        "A quick look at the shape of these variables will show that the data is now in isentropic\ncoordinates, with the number of vertical levels as specified above.\n\n"
      ]
    },
    {
      "cell_type": "code",
      "execution_count": null,
      "metadata": {
        "collapsed": false
      },
      "outputs": [],
      "source": [
        "print(isentprs.shape)\n",
        "print(isentrh.shape)\n",
        "print(isentu.shape)\n",
        "print(isentv.shape)"
      ]
    },
    {
      "cell_type": "markdown",
      "metadata": {},
      "source": [
        "**Plotting the Isentropic Analysis**\n\n"
      ]
    },
    {
      "cell_type": "markdown",
      "metadata": {},
      "source": [
        "Set up our projection\n\n"
      ]
    },
    {
      "cell_type": "code",
      "execution_count": null,
      "metadata": {
        "collapsed": false
      },
      "outputs": [],
      "source": [
        "crs = ccrs.LambertConformal(central_longitude=-100.0, central_latitude=45.0)\n",
        "\n",
        "# Set up our array of latitude and longitude values and transform to\n",
        "# the desired projection.\n",
        "clons, clats = np.meshgrid(lon, lat)\n",
        "\n",
        "# Get data to plot state and province boundaries\n",
        "states_provinces = cfeature.NaturalEarthFeature(\n",
        "    category='cultural',\n",
        "    name='admin_1_states_provinces_lakes',\n",
        "    scale='50m',\n",
        "    facecolor='none')\n",
        "level = 0\n",
        "FH = 0\n",
        "fig = plt.figure(1, figsize=(14., 12.))\n",
        "ax = plt.subplot(111, projection=crs)\n",
        "\n",
        "# Set plot extent\n",
        "ax.set_extent((-121., -74., 25., 50.), crs=ccrs.PlateCarree())\n",
        "ax.coastlines('50m', edgecolor='black', linewidth=0.75)\n",
        "ax.add_feature(states_provinces, edgecolor='black', linewidth=0.5)\n",
        "\n",
        "# Plot the 300K surface\n",
        "clevisent = np.arange(0, 1000, 25)\n",
        "cs = ax.contour(clons, clats, isentprs[FH, level, :, :], clevisent,\n",
        "                transform=ccrs.PlateCarree(),\n",
        "                colors='k', linewidths=1.0, linestyles='solid')\n",
        "plt.clabel(cs, fontsize=10, inline=1, inline_spacing=7,\n",
        "           fmt='%i', rightside_up=True, use_clabeltext=True)\n",
        "\n",
        "cf = ax.contourf(clons, clats, isentrh[FH, level, :, :], range(10, 106, 5),\n",
        "                 transform=ccrs.PlateCarree(),\n",
        "                 cmap=plt.cm.gist_earth_r)\n",
        "plt.colorbar(cf, orientation='horizontal', extend=max, aspect=65, pad=0,\n",
        "             extendrect='True')\n",
        "\n",
        "wind_slice = [FH, level, slice(None, None, 5), slice(None, None, 5)]\n",
        "ax.barbs(clons[wind_slice[2:]], clats[wind_slice[2:]],\n",
        "         isentu[wind_slice].m, isentv[wind_slice].m, length=6,\n",
        "         transform=ccrs.PlateCarree())\n",
        "\n",
        "# Make some titles\n",
        "plt.title('{:.0f} K Isentropic Level'.format(isentlevs[level].m), loc='left')\n",
        "plt.title('VALID: {:s} UTC'.format(str(vtimes[FH])), loc='right')\n",
        "\n",
        "plt.show()"
      ]
    }
  ],
  "metadata": {
    "kernelspec": {
      "display_name": "Python 3",
      "language": "python",
      "name": "python3"
    },
    "language_info": {
      "codemirror_mode": {
        "name": "ipython",
        "version": 3
      },
      "file_extension": ".py",
      "mimetype": "text/x-python",
      "name": "python",
      "nbconvert_exporter": "python",
      "pygments_lexer": "ipython3",
      "version": "3.7.3"
    }
  },
  "nbformat": 4,
  "nbformat_minor": 0
}